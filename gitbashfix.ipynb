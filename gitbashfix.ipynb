{
 "cells": [
  {
   "cell_type": "code",
   "execution_count": 2,
   "id": "247cfe9a",
   "metadata": {},
   "outputs": [],
   "source": [
    "import os\n",
    "import sys"
   ]
  },
  {
   "cell_type": "code",
   "execution_count": 3,
   "id": "3fa12e05",
   "metadata": {},
   "outputs": [],
   "source": [
    "# Check to see if current OS is windows.  If not no fix is required, so terminate\n",
    "import platform\n",
    "if platform.system() != \"Windows\":\n",
    "    print(\"This program only works and is only necessary for windows systems\")\n",
    "    exit(-1)"
   ]
  },
  {
   "cell_type": "code",
   "execution_count": 4,
   "id": "ca1382aa",
   "metadata": {},
   "outputs": [],
   "source": [
    "# The user's home folder is stored in the environment variable HOME.  Grab this and store it in a variable\n",
    "home_folder = os.environ['HOME']"
   ]
  },
  {
   "cell_type": "code",
   "execution_count": 5,
   "id": "e22cbe38",
   "metadata": {},
   "outputs": [],
   "source": [
    "# make a list of the different parts of the home folder\n",
    "home_folder_parts = home_folder.split('\\\\')\n",
    "# the last part of the home folder is the username\n",
    "username = home_folder_parts[-1]"
   ]
  },
  {
   "cell_type": "code",
   "execution_count": 7,
   "id": "3f911658",
   "metadata": {},
   "outputs": [
    {
     "data": {
      "text/plain": [
       "'USERS'"
      ]
     },
     "execution_count": 7,
     "metadata": {},
     "output_type": "execute_result"
    }
   ],
   "source": [
    "home_folder_parts[1].upper()"
   ]
  },
  {
   "cell_type": "code",
   "execution_count": 11,
   "id": "859bb0cf",
   "metadata": {},
   "outputs": [],
   "source": [
    "# check to make sure that home folder is in c:/Users -- if not code needs to be improved\n",
    "if home_folder_parts[0].upper() != \"C:\" or home_folder_parts[1].upper() != \"USERS\":\n",
    "    print(f\"program assumes that user's home folder is in C:\\\\Users, but was found to be {home_folder}.  Aborting...\")\n",
    "    exit(-3)"
   ]
  },
  {
   "cell_type": "code",
   "execution_count": 6,
   "id": "88f66d59",
   "metadata": {},
   "outputs": [],
   "source": [
    "# the file we need to modify is called .bashrc.  To implement the fix we need to add lines that look like:\n",
    "#   . /c/Users/\"$username\"/anaconda3/etc/profile.d/conda.sh\n",
    "#   alias python=\"winpty /c/Users/$username/anaconda3/python.exe\"\n",
    "#   alias jupyter=\"/c/Users/$username/anaconda3/envs/dev/Scripts/jupyter.exe\"\n",
    "#   export PATH=$PATH:/c/Users/thoma/anaconda3/envs/dev/Scripts\n",
    "\n",
    "# the filename for this file is .bashrc, and is in the home folder\n",
    "import pathlib\n",
    "bashrc_filename = pathlib.Path(f\"{home_folder}/.bashrc\")"
   ]
  },
  {
   "cell_type": "code",
   "execution_count": 7,
   "id": "e136db9f",
   "metadata": {},
   "outputs": [
    {
     "name": "stdout",
     "output_type": "stream",
     "text": [
      "fix successfully applied\n"
     ]
    }
   ],
   "source": [
    "# open the file and append the lines\n",
    "with open(bashrc_filename, \"a\", newline=\"\\n\") as bashrc:\n",
    "    bashrc.write(f\". /c/Users/{username}/anaconda3/etc/profile.d/conda.sh\\n\")\n",
    "    bashrc.write(f'alias python=\"winpty /c/Users/{username}/anaconda3/python.exe\"\\n')\n",
    "    bashrc.write(f'alias jupyter=\"/c/Users/{username}/anaconda3/envs/dev/Scripts/jupyter.exe\"\\n')\n",
    "    bashrc.write(f'export PATH=$PATH:/c/Users/{username}/anaconda3/envs/dev/Scripts\\n')\n",
    "    print(\"fix successfully applied\")\n",
    "    exit(0)"
   ]
  },
  {
   "cell_type": "code",
   "execution_count": 8,
   "id": "fdfd5bde",
   "metadata": {},
   "outputs": [
    {
     "name": "stdout",
     "output_type": "stream",
     "text": [
      "There was a problem opening the .bashrc file hopefully located at C:\\Users\\thoma\\.bashrc.  Please contact support for assistance\n"
     ]
    }
   ],
   "source": [
    "# this section of code should only be reached if the above section failed, i.e. if there was a file I/O error\n",
    "print(f\"There was a problem opening the .bashrc file hopefully located at {bashrc_filename}.  Please contact support for assistance\")\n",
    "exit(-2)"
   ]
  },
  {
   "cell_type": "code",
   "execution_count": null,
   "id": "2e73c075",
   "metadata": {},
   "outputs": [],
   "source": []
  }
 ],
 "metadata": {
  "kernelspec": {
   "display_name": "Python (dev)",
   "language": "python",
   "name": "dev"
  },
  "language_info": {
   "codemirror_mode": {
    "name": "ipython",
    "version": 3
   },
   "file_extension": ".py",
   "mimetype": "text/x-python",
   "name": "python",
   "nbconvert_exporter": "python",
   "pygments_lexer": "ipython3",
   "version": "3.10.13"
  }
 },
 "nbformat": 4,
 "nbformat_minor": 5
}
